{
  "nbformat": 4,
  "nbformat_minor": 0,
  "metadata": {
    "colab": {
      "name": "mnist.ipynb",
      "provenance": []
    },
    "kernelspec": {
      "name": "python3",
      "display_name": "Python 3"
    }
  },
  "cells": [
    {
      "cell_type": "markdown",
      "metadata": {
        "id": "dRF83J5zBZS4"
      },
      "source": [
        "Import Tenser flow layers, model and dataset"
      ]
    },
    {
      "cell_type": "code",
      "metadata": {
        "id": "80Fs5ExDBUYA"
      },
      "source": [
        "from tensorflow.keras.layers import Dense, Activation \n",
        "from tensorflow.keras.models import Sequential\n",
        "from tensorflow.keras.datasets import mnist\n",
        "from tensorflow.keras import utils"
      ],
      "execution_count": 25,
      "outputs": []
    },
    {
      "cell_type": "markdown",
      "metadata": {
        "id": "ABhGLySCEU0Q"
      },
      "source": [
        "Load data set in traning and testing"
      ]
    },
    {
      "cell_type": "code",
      "metadata": {
        "id": "QDhj5zajETfl"
      },
      "source": [
        "(X_train , Y_train) , (X_test, Y_test) = mnist.load_data()"
      ],
      "execution_count": 16,
      "outputs": []
    },
    {
      "cell_type": "markdown",
      "metadata": {
        "id": "8KX1jl7pEsAf"
      },
      "source": [
        "Import library for showing data \n"
      ]
    },
    {
      "cell_type": "code",
      "metadata": {
        "id": "L9q9Xy04EIwb"
      },
      "source": [
        "import matplotlib.pyplot as plt"
      ],
      "execution_count": 8,
      "outputs": []
    },
    {
      "cell_type": "markdown",
      "metadata": {
        "id": "xlN3_dxtFIMz"
      },
      "source": [
        "Show Some Data"
      ]
    },
    {
      "cell_type": "code",
      "metadata": {
        "id": "a2Dd4OgEDmry",
        "outputId": "40848088-c267-4ee9-aada-682180c7c2d9",
        "colab": {
          "base_uri": "https://localhost:8080/",
          "height": 282
        }
      },
      "source": [
        "plt.imshow(X_train[0], cmap = 'gray')"
      ],
      "execution_count": 10,
      "outputs": [
        {
          "output_type": "execute_result",
          "data": {
            "text/plain": [
              "<matplotlib.image.AxesImage at 0x7fa188181be0>"
            ]
          },
          "metadata": {
            "tags": []
          },
          "execution_count": 10
        },
        {
          "output_type": "display_data",
          "data": {
            "image/png": "[encoded data removed]",
            "text/plain": [
              "<Figure size 432x288 with 1 Axes>"
            ]
          },
          "metadata": {
            "tags": [],
            "needs_background": "light"
          }
        }
      ]
    },
    {
      "cell_type": "code",
      "metadata": {
        "id": "0gxwZ95wFbLZ",
        "outputId": "447c96d4-2838-4be4-ebe8-09ff03db6596",
        "colab": {
          "base_uri": "https://localhost:8080/",
          "height": 34
        }
      },
      "source": [
        "print(Y_train[0])"
      ],
      "execution_count": 14,
      "outputs": [
        {
          "output_type": "stream",
          "text": [
            "5\n"
          ],
          "name": "stdout"
        }
      ]
    },
    {
      "cell_type": "code",
      "metadata": {
        "id": "JYza3v8tFPmO",
        "outputId": "74cedb0f-c74d-4add-9576-f1d0a0ec51b4",
        "colab": {
          "base_uri": "https://localhost:8080/",
          "height": 282
        }
      },
      "source": [
        "plt.imshow(X_test[0], cmap = 'gray')"
      ],
      "execution_count": 11,
      "outputs": [
        {
          "output_type": "execute_result",
          "data": {
            "text/plain": [
              "<matplotlib.image.AxesImage at 0x7fa1880f3080>"
            ]
          },
          "metadata": {
            "tags": []
          },
          "execution_count": 11
        },
        {
          "output_type": "display_data",
          "data": {
            "image/png": "[encoded data removed]",
            "text/plain": [
              "<Figure size 432x288 with 1 Axes>"
            ]
          },
          "metadata": {
            "tags": [],
            "needs_background": "light"
          }
        }
      ]
    },
    {
      "cell_type": "code",
      "metadata": {
        "id": "UUWY6hPaFWnf",
        "outputId": "2c82c4aa-bde3-40e0-8ea3-1e6f9fcb78c3",
        "colab": {
          "base_uri": "https://localhost:8080/",
          "height": 34
        }
      },
      "source": [
        "print(Y_test[0])"
      ],
      "execution_count": 17,
      "outputs": [
        {
          "output_type": "stream",
          "text": [
            "7\n"
          ],
          "name": "stdout"
        }
      ]
    },
    {
      "cell_type": "markdown",
      "metadata": {
        "id": "TcM6MspfF75q"
      },
      "source": [
        "Normaliz data"
      ]
    },
    {
      "cell_type": "code",
      "metadata": {
        "id": "8atRQfG9Fwr2"
      },
      "source": [
        "X_train = X_train /  255\n",
        "X_test = X_test / 255"
      ],
      "execution_count": 18,
      "outputs": []
    },
    {
      "cell_type": "code",
      "metadata": {
        "id": "yjGsvZWrGMtV",
        "outputId": "cc591746-2741-456d-a434-8c3eb97577ae",
        "colab": {
          "base_uri": "https://localhost:8080/",
          "height": 34
        }
      },
      "source": [
        "X_train.shape"
      ],
      "execution_count": 29,
      "outputs": [
        {
          "output_type": "execute_result",
          "data": {
            "text/plain": [
              "(60000, 784)"
            ]
          },
          "metadata": {
            "tags": []
          },
          "execution_count": 29
        }
      ]
    },
    {
      "cell_type": "code",
      "metadata": {
        "id": "zn3f9dprGQTn",
        "outputId": "1ae3b5a9-32a6-4019-b1cf-ecc41fbd0bf1",
        "colab": {
          "base_uri": "https://localhost:8080/",
          "height": 34
        }
      },
      "source": [
        "X_test.shape"
      ],
      "execution_count": 28,
      "outputs": [
        {
          "output_type": "execute_result",
          "data": {
            "text/plain": [
              "(10000, 784)"
            ]
          },
          "metadata": {
            "tags": []
          },
          "execution_count": 28
        }
      ]
    },
    {
      "cell_type": "markdown",
      "metadata": {
        "id": "PQEigRsvGf-c"
      },
      "source": [
        "Reshape data"
      ]
    },
    {
      "cell_type": "code",
      "metadata": {
        "id": "nw2fAXxtGT3w"
      },
      "source": [
        "X_train = X_train.reshape((X_train.shape[0],784)).astype('float32')\n",
        "X_test = X_test.reshape((X_test.shape[0],784)).astype('float32')"
      ],
      "execution_count": 22,
      "outputs": []
    },
    {
      "cell_type": "code",
      "metadata": {
        "id": "PAVjkHj0Iu2T"
      },
      "source": [
        "Y_train = utils.to_categorical(Y_train)\n",
        "Y_test = utils.to_categorical(Y_test)"
      ],
      "execution_count": 27,
      "outputs": []
    },
    {
      "cell_type": "markdown",
      "metadata": {
        "id": "QjC0kOnKHkDu"
      },
      "source": [
        "Create model"
      ]
    },
    {
      "cell_type": "code",
      "metadata": {
        "id": "whq8rC5TG7ow"
      },
      "source": [
        "model = Sequential()"
      ],
      "execution_count": 23,
      "outputs": []
    },
    {
      "cell_type": "code",
      "metadata": {
        "id": "URo-CYqFHobn"
      },
      "source": [
        "model.add(Dense(64, activation='relu', input_dim= 784 ))\n",
        "model.add(Dense(32, activation='relu'))\n",
        "model.add(Dense(10, activation='softmax'))"
      ],
      "execution_count": 31,
      "outputs": []
    },
    {
      "cell_type": "markdown",
      "metadata": {
        "id": "GUsMVV8AJ292"
      },
      "source": [
        "Import Optimizer"
      ]
    },
    {
      "cell_type": "code",
      "metadata": {
        "id": "pipDDD-OJ18o"
      },
      "source": [
        "from tensorflow.keras.optimizers import Adam"
      ],
      "execution_count": 34,
      "outputs": []
    },
    {
      "cell_type": "code",
      "metadata": {
        "id": "T48iUdsGRT1C"
      },
      "source": [
        "optimiz = Adam(lr= 1e-3)"
      ],
      "execution_count": 35,
      "outputs": []
    },
    {
      "cell_type": "markdown",
      "metadata": {
        "id": "--jQwCBwojf4"
      },
      "source": [
        "Compile model "
      ]
    },
    {
      "cell_type": "code",
      "metadata": {
        "id": "xFB9qaYSJdoJ"
      },
      "source": [
        "model.compile(loss='categorical_crossentropy', optimizer= optimiz , metrics = ['accuracy'])"
      ],
      "execution_count": 40,
      "outputs": []
    },
    {
      "cell_type": "code",
      "metadata": {
        "id": "-VSwFyNaJrHh",
        "outputId": "14b666c4-0a18-48f3-e237-d536a6beaf44",
        "colab": {
          "base_uri": "https://localhost:8080/",
          "height": 289
        }
      },
      "source": [
        "  model.summary()\n"
      ],
      "execution_count": 41,
      "outputs": [
        {
          "output_type": "stream",
          "text": [
            "Model: \"sequential\"\n",
            "_________________________________________________________________\n",
            "Layer (type)                 Output Shape              Param #   \n",
            "=================================================================\n",
            "dense (Dense)                (None, 64)                50240     \n",
            "_________________________________________________________________\n",
            "dense_1 (Dense)              (None, 64)                4160      \n",
            "_________________________________________________________________\n",
            "dense_2 (Dense)              (None, 32)                2080      \n",
            "_________________________________________________________________\n",
            "dense_3 (Dense)              (None, 10)                330       \n",
            "=================================================================\n",
            "Total params: 56,810\n",
            "Trainable params: 56,810\n",
            "Non-trainable params: 0\n",
            "_________________________________________________________________\n"
          ],
          "name": "stdout"
        }
      ]
    },
    {
      "cell_type": "markdown",
      "metadata": {
        "id": "BorZFsDnZaIB"
      },
      "source": [
        "Train Model"
      ]
    },
    {
      "cell_type": "code",
      "metadata": {
        "id": "nae4ZV_ZSAOJ",
        "outputId": "e6b8f7b2-6693-4381-a3b0-9f5a8618dd09",
        "colab": {
          "base_uri": "https://localhost:8080/",
          "height": 374
        }
      },
      "source": [
        "model.fit(X_train, Y_train, epochs= 10, batch_size=200, verbose=1)"
      ],
      "execution_count": 42,
      "outputs": [
        {
          "output_type": "stream",
          "text": [
            "Epoch 1/10\n",
            "300/300 [==============================] - 1s 5ms/step - loss: 0.4685 - accuracy: 0.8616\n",
            "Epoch 2/10\n",
            "300/300 [==============================] - 1s 3ms/step - loss: 0.1778 - accuracy: 0.9476\n",
            "Epoch 3/10\n",
            "300/300 [==============================] - 1s 3ms/step - loss: 0.1319 - accuracy: 0.9602\n",
            "Epoch 4/10\n",
            "300/300 [==============================] - 1s 4ms/step - loss: 0.1081 - accuracy: 0.9672\n",
            "Epoch 5/10\n",
            "300/300 [==============================] - 1s 4ms/step - loss: 0.0907 - accuracy: 0.9719\n",
            "Epoch 6/10\n",
            "300/300 [==============================] - 1s 3ms/step - loss: 0.0778 - accuracy: 0.9767\n",
            "Epoch 7/10\n",
            "300/300 [==============================] - 1s 3ms/step - loss: 0.0670 - accuracy: 0.9791\n",
            "Epoch 8/10\n",
            "300/300 [==============================] - 1s 3ms/step - loss: 0.0603 - accuracy: 0.9816\n",
            "Epoch 9/10\n",
            "300/300 [==============================] - 1s 4ms/step - loss: 0.0516 - accuracy: 0.9847\n",
            "Epoch 10/10\n",
            "300/300 [==============================] - 1s 3ms/step - loss: 0.0465 - accuracy: 0.9861\n"
          ],
          "name": "stdout"
        },
        {
          "output_type": "execute_result",
          "data": {
            "text/plain": [
              "<tensorflow.python.keras.callbacks.History at 0x7fa180f5bd30>"
            ]
          },
          "metadata": {
            "tags": []
          },
          "execution_count": 42
        }
      ]
    },
    {
      "cell_type": "markdown",
      "metadata": {
        "id": "gif0FGImi0cL"
      },
      "source": [
        "Check Score on  testing "
      ]
    },
    {
      "cell_type": "code",
      "metadata": {
        "id": "akqKsE_YizkO",
        "outputId": "f11ec1f0-8faa-4ff9-9aba-531303e8c5f1",
        "colab": {
          "base_uri": "https://localhost:8080/",
          "height": 34
        }
      },
      "source": [
        "score = model.evaluate(X_test, Y_test, verbose=1)"
      ],
      "execution_count": 43,
      "outputs": [
        {
          "output_type": "stream",
          "text": [
            "313/313 [==============================] - 0s 1ms/step - loss: 0.0948 - accuracy: 0.9727\n"
          ],
          "name": "stdout"
        }
      ]
    },
    {
      "cell_type": "code",
      "metadata": {
        "id": "nJsGz8lvYkh2",
        "outputId": "97275136-12c8-4808-ca9b-befc2496df92",
        "colab": {
          "base_uri": "https://localhost:8080/",
          "height": 34
        }
      },
      "source": [
        "score"
      ],
      "execution_count": 44,
      "outputs": [
        {
          "output_type": "execute_result",
          "data": {
            "text/plain": [
              "[0.09477315098047256, 0.9726999998092651]"
            ]
          },
          "metadata": {
            "tags": []
          },
          "execution_count": 44
        }
      ]
    },
    {
      "cell_type": "markdown",
      "metadata": {
        "id": "9SN-91JKkSPy"
      },
      "source": [
        "Score on testing"
      ]
    },
    {
      "cell_type": "code",
      "metadata": {
        "id": "Q31VOK_pjHE3",
        "outputId": "6c04dabf-468f-445e-e102-0a6008894d6b",
        "colab": {
          "base_uri": "https://localhost:8080/",
          "height": 34
        }
      },
      "source": [
        "print('%.2f%%' % (100-score[0] *100))"
      ],
      "execution_count": 45,
      "outputs": [
        {
          "output_type": "stream",
          "text": [
            "90.52%\n"
          ],
          "name": "stdout"
        }
      ]
    },
    {
      "cell_type": "markdown",
      "metadata": {
        "id": "FGSRwHS2lL_u"
      },
      "source": [
        "Save Model "
      ]
    },
    {
      "cell_type": "code",
      "metadata": {
        "id": "31wYt4oOjrqC"
      },
      "source": [
        "model.save('mnist.h5')"
      ],
      "execution_count": 47,
      "outputs": []
    }
  ]
}